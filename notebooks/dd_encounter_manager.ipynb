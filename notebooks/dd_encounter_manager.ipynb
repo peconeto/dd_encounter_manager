{
 "cells": [
  {
   "cell_type": "markdown",
   "id": "a37b885e-f7f1-42d3-9ee0-5ebc9fcb2454",
   "metadata": {},
   "source": [
    "# D&D encounter manager \n",
    "\n",
    "### Requirements\n",
    "- Select enemies for an encounter if provided with a challenge rating and environment (I can upload possible options and it should randomly choose from a list of say 100)\n",
    "- Roll 20-sided die and determine order in which players will take turns\n",
    "- Quick access to monster stats and possible attacks/moves\n",
    "- Manage HP for each monster and track turn count-downs where applicable\n",
    "- Extra: LLM API to help generate interesting names, monster characteristics / traits, things they say, things they are wearing"
   ]
  },
  {
   "cell_type": "raw",
   "id": "15de4399-ed68-4b45-adf6-4ea6c9086f75",
   "metadata": {},
   "source": [
    "%pip install numpy"
   ]
  },
  {
   "cell_type": "code",
   "execution_count": 343,
   "id": "77614a07-5a0e-4c85-9496-bc59a95cea9c",
   "metadata": {},
   "outputs": [],
   "source": [
    "import numpy as np\n",
    "import random\n",
    "import math\n",
    "from operator import attrgetter\n",
    "import warnings\n",
    "import uuid"
   ]
  },
  {
   "cell_type": "markdown",
   "id": "2a5f336d-031e-4e21-8db0-6fb1fdb47e2b",
   "metadata": {},
   "source": [
    "## Functions"
   ]
  },
  {
   "cell_type": "code",
   "execution_count": 344,
   "id": "9b463251-9e2b-403d-8772-131a7bae28c4",
   "metadata": {},
   "outputs": [],
   "source": [
    "def roll_dice(sides = 20):\n",
    "    \"\"\"Returns a number between 1 and the sides of a dice using a random uniform distribution (default 20-sided)\"\"\"\n",
    "    roll = np.random.randint(1, sides + 1)\n",
    "    \n",
    "    if sides not in {4, 6, 8, 10, 12, 20, 100}:\n",
    "        warnings.warn(f\"Warning: It is uncommon to roll a {sides}-sided die. Are you sure?\")\n",
    "        return roll\n",
    "    else:\n",
    "        return roll\n",
    "\n",
    "def get_multiple_dice_rolls(roll_count, sides):\n",
    "    \"\"\"Returns a list of multiple dic rolls. Useful for rolls such as 2d6, 6d6, etc.\"\"\"\n",
    "    dice_rolls_list = []\n",
    "\n",
    "    for roll in range(roll_count):\n",
    "        dice_rolls_list.append(roll_dice(sides))\n",
    "    \n",
    "    return dice_rolls_list\n",
    "\n",
    "def int_to_ordinal(n):\n",
    "    \"\"\"Convert an integer to its ordinal representation\"\"\"\n",
    "    if not isinstance(n, int) or n < 1:\n",
    "        raise ValueError(\"Input is not a positive integer.\")\n",
    "\n",
    "    if n% 100 in range(11, 14):\n",
    "        suffix = \"th\"\n",
    "    elif n % 10 in range(4, 10):\n",
    "        suffix = \"th\"\n",
    "    elif n % 10 == 0:\n",
    "        suffix = \"th\"\n",
    "    elif n % 10 == 1:\n",
    "        suffix = \"st\"\n",
    "    elif n % 10 == 2:\n",
    "        suffix = \"nd\"\n",
    "    elif n % 10 == 3:\n",
    "        suffix = \"rd\"\n",
    "    \n",
    "    return f\"{n}{suffix}\"\n",
    "\n",
    "def ability_score_to_modifier(ability_score):\n",
    "    \"\"\"Converts ability scores to ability score modifiers\"\"\"\n",
    "    modifier = math.floor((ability_score - 10) / 2)\n",
    "    \n",
    "    return modifier\n",
    "\n",
    "def roll_for_initiative(target):\n",
    "    \"\"\"Initiative roll is a 1d20 plus the dexterity modifier\"\"\"\n",
    "    roll = roll_dice(20)\n",
    "    roll_modified = roll + ability_score_to_modifier(target.abilityScores.dexterity)\n",
    "    \n",
    "    return roll_modified\n",
    "\n",
    "def instantiate_weapon_from_dict(name):\n",
    "    \"\"\"Create an object instance using the Weapon class\"\"\"\n",
    "    if name not in weapons_dict:\n",
    "        raise ValueError(\"Weapon name does not exist.\")\n",
    "    else:\n",
    "        weapon_stats = Weapon(\n",
    "            name = name,\n",
    "            id = str(uuid.uuid4()),\n",
    "            cost = weapons_dict[name][\"cost\"],\n",
    "            damageDiceCount = weapons_dict[name][\"damage_dice_count\"],\n",
    "            damageDiceSides = weapons_dict[name][\"damage_dice_sides\"],\n",
    "            weight = weapons_dict[name][\"weight\"],\n",
    "            weaponType = weapons_dict[name][\"weapon_type\"]\n",
    "            )\n",
    "    \n",
    "    return weapon_stats\n",
    "\n",
    "def attack_resolver(attack):\n",
    "    \"\"\"Resolves whether an attack hits, and how much damage it deals against the target. Then returns a message for flair\"\"\"\n",
    "    if attack.attackRoll == 1:\n",
    "        message = \"Womp womp it's a nat 1 and misses.\"\n",
    "    elif attack.attackRoll == 20:\n",
    "        attack.target.hitPoints = attack.target.hitPoints - (attack.damageRoll * 2)\n",
    "        message = f'A critical hit dealing {attack.damageRoll * 2} damage!'\n",
    "    elif attack.attackRollModified >= attack.target.armorClass:\n",
    "        attack.target.hitPoints = attack.target.hitPoints - attack.damageRoll\n",
    "        message = f'It hits, causing {attack.damageRoll} damage.'\n",
    "    elif attack.attackRollModified < attack.target.armorClass:\n",
    "        message = \"It misses.\"\n",
    "    \n",
    "    return message\n"
   ]
  },
  {
   "cell_type": "markdown",
   "id": "b8b388e4",
   "metadata": {},
   "source": [
    "## Weapons dictionary"
   ]
  },
  {
   "cell_type": "code",
   "execution_count": 345,
   "id": "3968b670",
   "metadata": {},
   "outputs": [],
   "source": [
    "# Source: 2014 Player's Handbook\n",
    "weapons_dict = {\n",
    "    \"scimitar\":\n",
    "        {\"cost\": 25,\n",
    "         \"damage_dice_count\": 1,\n",
    "         \"damage_dice_sides\": 6,\n",
    "         \"weight\": 3,\n",
    "         \"weapon_type\": \"melee\"\n",
    "         },\n",
    "    \"battle axe\":\n",
    "        {\"cost\": 10,\n",
    "         \"damage_dice_count\": 1,\n",
    "         \"damage_dice_sides\": 8,\n",
    "         \"weight\": 4,\n",
    "         \"weapon_type\": \"melee\"\n",
    "         }\n",
    "    }"
   ]
  },
  {
   "cell_type": "markdown",
   "id": "3365bb22",
   "metadata": {},
   "source": [
    "## Classes used by both Player and Monster classes"
   ]
  },
  {
   "cell_type": "code",
   "execution_count": 346,
   "id": "9ef73910",
   "metadata": {},
   "outputs": [],
   "source": [
    "class AbilityScores:\n",
    "    \"\"\"Ability scores for creatures\"\"\"\n",
    "    def __init__(self, strength, dexterity, constitution, intelligence, wisdom, charisma):\n",
    "        ability_scores_set = {strength, dexterity, constitution, intelligence, wisdom, charisma}\n",
    "\n",
    "        if any(score > 30 for score in ability_scores_set):\n",
    "            raise ValueError(\"Ability scores must be between 1 and 30.\")\n",
    "        elif any(score < 1 for score in ability_scores_set):\n",
    "            raise ValueError(\"Ability scores must be between 1 and 30.\")\n",
    "        else:\n",
    "            self.strength = strength\n",
    "            self.dexterity = dexterity\n",
    "            self.constitution = constitution\n",
    "            self.intelligence = intelligence\n",
    "            self.wisdom = wisdom\n",
    "            self.charisma = charisma\n",
    "\n",
    "class Alignment:\n",
    "    \"\"\"Alignment for creatures\"\"\"\n",
    "    def __init__(self, lawfulness, morality):\n",
    "        self.valid_lawfulness = {\"lawful\", \"neutral\", \"chaotic\"}\n",
    "        self.valid_morality = {\"good\", \"neutral\", \"evil\"}\n",
    "\n",
    "        if lawfulness in self.valid_lawfulness:\n",
    "            self.lawfulness = lawfulness\n",
    "        else:\n",
    "            raise ValueError(f\"Invalid lawfulness: {lawfulness}. Must be one of {self.valid_lawfulness}.\")\n",
    "\n",
    "        if morality in self.valid_morality:\n",
    "            self.morality = morality\n",
    "        else:\n",
    "            raise ValueError(f\"Invalid morality: {morality}. Must be one of {self.valid_morality}.\")\n",
    "\n",
    "class Attack:\n",
    "    \"\"\"Attacks for creatures\"\"\"\n",
    "    def __init__(self, target, attackRoll, attackRollModified, damageRoll):\n",
    "        self.target = target\n",
    "        self.attackRoll = attackRoll\n",
    "        self.attackRollModified = attackRollModified\n",
    "        self.damageRoll = damageRoll\n",
    "\n",
    "class GoldPieces:\n",
    "    \"\"\"Amount of gold\"\"\"\n",
    "    def __init__(self, value):\n",
    "        self.value = value\n"
   ]
  },
  {
   "cell_type": "markdown",
   "id": "be4eeeb9",
   "metadata": {},
   "source": [
    "## Player class and Weapon class to be used by players only"
   ]
  },
  {
   "cell_type": "code",
   "execution_count": 482,
   "id": "0d1ca09b",
   "metadata": {},
   "outputs": [],
   "source": [
    "class Player:\n",
    "    \"\"\"Playable hero\"\"\"\n",
    "    def __init__(self, name, species, playerClass, abilityScores, proficiencyBonus, alignment, hitPointsMax, armorClass, weapons, inventory = [], size = \"medium\", speed = 30):\n",
    "        self.name = name\n",
    "        self.species = species\n",
    "        self.playerClass = playerClass\n",
    "        self.abilityScores = abilityScores\n",
    "        self.proficiencyBonus = proficiencyBonus\n",
    "        self.alignment = alignment\n",
    "        self.hitPointsMax = hitPointsMax\n",
    "        self.armorClass = armorClass\n",
    "        self.weapons = weapons\n",
    "        # Attributes below have default values which can be overriden\n",
    "        self.inventory = inventory\n",
    "        self.size = size\n",
    "        self.speed = speed\n",
    "        # Attributes below are set by default\n",
    "        self.hitPoints = self.hitPointsMax\n",
    "        self.initiativeRollModified = None\n",
    "        self.initiativeRank = None\n",
    "    \n",
    "    def __str__(self):\n",
    "        return f\"{self.playerClass.capitalize()} {self.name} jumps into battle!\"\n",
    "    \n",
    "    def attack(self, target, weapon):\n",
    "        \"\"\"Attacks a target creature\"\"\"\n",
    "        if weapon not in self.weapons:\n",
    "            raise ValueError(f'Player is not equipped with {weapon}.')\n",
    "        \n",
    "        attackRoll = roll_dice(20)\n",
    "        \n",
    "        if weapon.weaponType not in {\"melee\", \"ranged\"}:\n",
    "            raise ValueError(\"Weapon type must be melee or ranged.\")\n",
    "        elif weapon.weaponType == \"melee\":\n",
    "            attackAndDamageRollModifier = ability_score_to_modifier(self.abilityScores.strength)\n",
    "        elif weapon.weaponType == \"ranged\":\n",
    "            attackAndDamageRollModifier = ability_score_to_modifier(self.abilityScores.dexterity)\n",
    "        \n",
    "        attackDetails = Attack(\n",
    "            target = target,\n",
    "            attackRoll = attackRoll,\n",
    "            attackRollModified = attackRoll + self.proficiencyBonus + attackAndDamageRollModifier,\n",
    "            damageRoll = sum(get_multiple_dice_rolls(weapon.damageDiceCount, weapon.damageDiceSides)) + attackAndDamageRollModifier\n",
    "            )\n",
    "        \n",
    "        return attackDetails\n",
    "    \n",
    "    def rollForInitiative(self):\n",
    "        \"\"\"Determine order of combat\"\"\"\n",
    "        initiativeRollModified = roll_for_initiative(self)\n",
    "        self.initiativeRollModified = initiativeRollModified\n",
    "    \n",
    "    def takeLoot(self, target):\n",
    "        \"\"\"Loots a target creature by adding all items to Player's inventory and removing it from target creature's inventory. Combines gold pieces together\"\"\"\n",
    "        for item in target.inventory:\n",
    "            self.inventory.append(item)\n",
    "\n",
    "        target.inventory = []\n",
    "\n",
    "        goldValueSum = 0\n",
    "\n",
    "        for item in self.inventory:\n",
    "            if isinstance(item, GoldPieces):\n",
    "                goldValueSum = item.value + goldValueSum\n",
    "                self.inventory.remove(item)\n",
    "        \n",
    "        self.inventory.append(GoldPieces(value = goldValueSum))\n",
    "\n",
    "class Weapon:\n",
    "    \"\"\"Class for all weapons\"\"\"\n",
    "    def __init__(self, name, id, cost, damageDiceCount, damageDiceSides, weight, weaponType):\n",
    "        self.name = name\n",
    "        self.id = id\n",
    "        self.cost = cost\n",
    "        self.damageDiceCount = damageDiceCount\n",
    "        self.damageDiceSides = damageDiceSides\n",
    "        self.weight = weight\n",
    "        self.weaponType = weaponType\n"
   ]
  },
  {
   "cell_type": "markdown",
   "id": "95163d22",
   "metadata": {},
   "source": [
    "## Monster classes"
   ]
  },
  {
   "cell_type": "code",
   "execution_count": 370,
   "id": "cbfc5b1c",
   "metadata": {},
   "outputs": [],
   "source": [
    "# Parent class\n",
    "class Monster:\n",
    "    \"\"\"Parent monster class\"\"\"\n",
    "    def __init__(self, name, size, creatureType, alignment, armorClass, hitPointsMax, speed, abilityScores, proficiencyBonus, challengeRating, inventory):\n",
    "        self.name = name\n",
    "        self.size = size\n",
    "        self.creatureType = creatureType\n",
    "        self.alignment = alignment\n",
    "        self.armorClass = armorClass\n",
    "        self.hitPointsMax = hitPointsMax\n",
    "        self.speed = speed\n",
    "        self.abilityScores =  abilityScores\n",
    "        self.proficiencyBonus = proficiencyBonus\n",
    "        self.challengeRating = challengeRating\n",
    "        self.inventory = inventory\n",
    "        # Attributes below are set by default\n",
    "        self.hitPoints = self.hitPointsMax\n",
    "        self.initiativeRoll = None\n",
    "        self.initiativeRollModified = None\n",
    "        self.initiativeRank = None\n",
    "        self.weapons = dict()\n",
    "    \n",
    "    def equipWeapon(self, name, attackRollModifier, damageDiceCount, damageDiceSides, damageRollModifier):\n",
    "        \"\"\"Adds a weapon key to the monster's dictionary\"\"\"\n",
    "        if name in self.weapons:\n",
    "            ValueError(\"Weapon is already equipped.\")\n",
    "\n",
    "        self.weapons[name] = {\"attackRollModifier\": attackRollModifier, \"damageDiceCount\": damageDiceCount, \"damageDiceSides\": damageDiceSides, \"damageRollModifier\": damageRollModifier}\n",
    "\n",
    "    def unequipWeapon(self, name):\n",
    "        \"\"\"Removes a weapon key from the monster's dictionary\"\"\"\n",
    "        del self.weapons[name]\n",
    "\n",
    "    def attack(self, target, weapon):\n",
    "        \"\"\"Attacks a target creature\"\"\"\n",
    "        if weapon not in self.weapons:\n",
    "            ValueError(\"Attacking monster does not have this weapon equipped.\")\n",
    "        \n",
    "        attackRoll = roll_dice(20)\n",
    "        attackRollModifier = self.weapons[weapon][\"attackRollModifier\"]\n",
    "        damageDiceCount = self.weapons[weapon][\"damageDiceCount\"]\n",
    "        damageDiceSides = self.weapons[weapon][\"damageDiceSides\"]\n",
    "        damageRollModifier = self.weapons[weapon][\"damageRollModifier\"]\n",
    "        \n",
    "        attackDetails = Attack(\n",
    "            target = target,\n",
    "            attackRoll = attackRoll,\n",
    "            attackRollModified = attackRoll + attackRollModifier,\n",
    "            damageRoll = sum(get_multiple_dice_rolls(damageDiceCount, damageDiceSides)) + damageRollModifier\n",
    "            )\n",
    "        return attackDetails\n",
    "    \n",
    "    def rollForInitiative(self):\n",
    "        \"\"\"Determine order of combat\"\"\"\n",
    "        initiativeRollModified = roll_for_initiative(self)\n",
    "        self.initiativeRollModified = initiativeRollModified\n",
    "\n",
    "# Children classes\n",
    "class Goblin(Monster):\n",
    "    \"\"\"Goblin creature (2014 Monster Manual)\"\"\"\n",
    "    def __init__(self, name):\n",
    "        super().__init__(\n",
    "            name,\n",
    "            size = \"small\",\n",
    "            creatureType = \"humanoid\",\n",
    "            alignment = Alignment(\"neutral\", \"evil\"),\n",
    "            armorClass = 15,\n",
    "            hitPointsMax = 7,\n",
    "            speed = 30,\n",
    "            abilityScores = AbilityScores(\n",
    "                strength = 8,\n",
    "                dexterity = 14,\n",
    "                constitution = 10,\n",
    "                intelligence = 10,\n",
    "                wisdom = 8,\n",
    "                charisma = 8\n",
    "                ),\n",
    "            proficiencyBonus = 2,\n",
    "            challengeRating = 0.25,\n",
    "            inventory = [\n",
    "                instantiate_weapon_from_dict(\"scimitar\"),\n",
    "                GoldPieces(int(np.random.choice(np.arange(0, 4), p = [0.80, 0.09, 0.09, 0.02]))) # 80% chance of no gold, 9% chance each of 1 or 2 pieces and 2% chance of 3 pieces\n",
    "                ],\n",
    "            )\n",
    "        self.equipWeapon(name = \"scimitar\", attackRollModifier = 4, damageDiceCount = 1, damageDiceSides = 6, damageRollModifier = 2)\n",
    "\n",
    "    def __str__(self):\n",
    "        return f\"Goblin {self.name} smells blood!\"\n"
   ]
  },
  {
   "cell_type": "markdown",
   "id": "0273a159",
   "metadata": {},
   "source": [
    "## CombatHandler class"
   ]
  },
  {
   "cell_type": "code",
   "execution_count": 360,
   "id": "633ce162",
   "metadata": {},
   "outputs": [],
   "source": [
    "class CombatHandler:\n",
    "    \"\"\"Class for handling combat mechanics\"\"\"\n",
    "    def __init__(self, combatants):\n",
    "        self.combatants = combatants\n",
    "    \n",
    "    def introduceCombatants(self):\n",
    "        \"\"\"Introduce combatants in a random order\"\"\"\n",
    "        random.shuffle(self.combatants)\n",
    "    \n",
    "#    for combatant in combatants:\n",
    "#        print(combatant)"
   ]
  },
  {
   "cell_type": "markdown",
   "id": "efb5ba5f-7fb5-4b9c-93ea-d7cc209b65a7",
   "metadata": {},
   "source": [
    "## 10/19\n",
    "\n",
    "Consider what happens here when n = 11\n",
    "\n",
    "<font color=\"blue\">\n",
    "Peco: Fixed for 11, 12, and 13! Also changed num_to_ordinal() to be int_to_ordinal() for better clarity. Also added a new error catch.\n",
    "</font>"
   ]
  },
  {
   "cell_type": "markdown",
   "id": "518e6dbe-c122-44f5-845b-b0ccbfaba974",
   "metadata": {},
   "source": [
    "## 10/19\n",
    "\n",
    "I think there may be a misunderstanding or typo here:\n",
    "\n",
    "```\n",
    "for rolls in range(weapon.damageDiceCount):\n",
    "        damage_dice_rolls.append(roll_dice(weapon.damageDiceSides))\n",
    "        rolls += 1\n",
    "```\n",
    "\n",
    "You want to loop over the total number of weapon.damageDiceCount right? There is no need to increment `rolls`. In other words, you can remove the line `rolls += 1`. Also, I would call it `roll` instead of `rolls`. You are looping through each `roll` in that range. \n",
    "\n",
    "<font color=\"blue\">\n",
    "Peco: Good flag, the counter is not necessary at all. I think I got tripped up with how I've written some while loops in SQL.\n",
    "</font>\n",
    "\n",
    "---\n",
    "\n",
    "\n",
    "I see that this code is repeated twice: \n",
    "```\n",
    "damage_dice_rolls = []\n",
    "    for rolls in range(weapon.damageDiceCount):\n",
    "        damage_dice_rolls.append(roll_dice(weapon.damageDiceSides))\n",
    "```\n",
    "I know it's a small repetition, but you may want to make it into a function: `def get_damage_dice_rolls(total_rolls)`\n",
    "\n",
    "<font color=\"blue\">\n",
    "Peco: Nice! I made a new get_multiple_dice_rolls() function because now that I think about it, this is a common loop that will be needed even beyond atatcks.\n",
    "</font>\n",
    "\n",
    "---\n",
    "\n",
    "With this code:\n",
    "```\n",
    "    if weapon.weaponType == \"melee\":\n",
    "        attack_and_damage_roll_modifier = ability_score_to_modifier(player.abilityScores.strength)\n",
    "    elif weapon.weaponType == \"ranged\":\n",
    "        attack_and_damage_roll_modifier = ability_score_to_modifier(player.abilityScores.dexterity)\n",
    "```\n",
    "There is a chance that `attack_and_damage_roll_modifier` never gets defined, if weaponType does not match one of those two choices. Consider what to do in this case. You can do this in an `else` block. This error could happen if you add a new weaponType in the future and forget to modify the player_attack function.\n",
    "\n",
    "<font color=\"blue\">\n",
    "Peco: Good point, this covers all weapon types today but maybe in the future more types can get added. Added a new error catch here.\n",
    "</font>"
   ]
  },
  {
   "cell_type": "markdown",
   "id": "76c2eef2-9e78-421e-8f1c-2a54101c0310",
   "metadata": {},
   "source": [
    "## 10/19\n",
    "\n",
    "Nice checking for edge cases in `AbilityScores` and in `Alignment`. Maybe later we can talk about different ways to handle these, like throwing exceptions. This will ensure the code doesn't run and create a half-assed `Alignment` object. I don't think it is a critical thing to do though.\n",
    "\n",
    "<font color=\"blue\">\n",
    "Peco: I made some minor tweaks to how errors are thrown, but sounds good we can maybe go over that later.\n",
    "</font>"
   ]
  },
  {
   "cell_type": "markdown",
   "id": "74306489-6374-4fa8-a831-7fa264f2b54d",
   "metadata": {},
   "source": [
    "## 10/18\n",
    "\n",
    "\n",
    "Kinda either super racist or super woke to give players a race. Have a story around this ready for HR.\n",
    "\n",
    "<font color=\"blue\">\n",
    "Peco: Dude this was no kidding a big controversy in 2021. People were <b>extremely</b> upset that D&D isn't woke enough:\n",
    "</font>\n",
    "\n",
    "<url>https://www.wired.com/story/dandd-must-grapple-with-the-racism-in-fantasy/</url>\n",
    "\n",
    "<font color=\"blue\">\n",
    "As a response they changed \"race\" to \"species\" in the new rules that just came out in September 2024 so that's a good flag for me to update it here too that way it matches up with the official rules.\n",
    "</font>\n",
    "\n",
    "<url>https://www.dndbeyond.com/posts/1393-moving-on-from-race-in-the-2024-core-rulebooks</url>\n",
    "\n",
    "---\n",
    "Why not make the `player_attack` function a method in `Player`?\n",
    "\n",
    "<font color=\"blue\">\n",
    "Peco: Good call - done. When I was first writing out classes and functions I was figuring out whether there would be one attack function for both Player and Monster, or one for each class, and how many Player classes I should make. After I settled on a single Player class and different attack functions for Player and Monster I never cleaned this up.\n",
    "</font>"
   ]
  },
  {
   "cell_type": "markdown",
   "id": "2764f513-9e7c-4bfc-8162-952c13e51506",
   "metadata": {},
   "source": [
    "## 10/19\n",
    "\n",
    "Please add \"sexy\" to alignment here. And race should be \"latinx\".\n",
    "\n",
    "<font color=\"blue\">\n",
    "Peco: Sorry but this doesn't seem to be working? Maybe Ivan can't be considered sexy (weird that it worked for other players when troubleshooting):\n",
    "\n",
    "```\n",
    "Alignment(\"sexy\")\n",
    "\n",
    "TypeError\n",
    "Traceback (most recent call last)\n",
    "Cell In[120], line 1\n",
    "----> 1 Alignment(\"lawful\", \"good\", \"sexy\")\n",
    "```\n",
    "</font>"
   ]
  },
  {
   "cell_type": "markdown",
   "id": "335a52dd-3ae3-4773-9208-07dd70dcc3e6",
   "metadata": {},
   "source": [
    "## 10/19\n",
    "\n",
    "Lets create a `GameHandler` class. All the logic below this comment should be implemented in that class."
   ]
  },
  {
   "cell_type": "code",
   "execution_count": 349,
   "id": "20594a4b-48cc-4b0a-a939-a8c84db2ecc9",
   "metadata": {},
   "outputs": [],
   "source": [
    "goblin1 = Goblin(\"Joe\")"
   ]
  },
  {
   "cell_type": "code",
   "execution_count": 350,
   "id": "14784cc4-16e3-4ea2-ac41-56c837f42e29",
   "metadata": {},
   "outputs": [],
   "source": [
    "player1 = Player(name = \"Ivan\",\n",
    "                 species = \"human\",\n",
    "                 playerClass = \"barbarian\",\n",
    "                 abilityScores = AbilityScores(16, 15, 14, 13, 12, 11),\n",
    "                 proficiencyBonus = 3,\n",
    "                 alignment = Alignment(\"lawful\", \"good\"),\n",
    "                 hitPointsMax = 30,\n",
    "                 armorClass = 15,\n",
    "                 weapons = [instantiate_weapon_from_dict(\"battle axe\")]\n",
    "                )"
   ]
  },
  {
   "cell_type": "code",
   "execution_count": 351,
   "id": "f133c9da-f0a4-4256-8165-12f0dc586a8c",
   "metadata": {},
   "outputs": [
    {
     "name": "stdout",
     "output_type": "stream",
     "text": [
      "Barbarian Ivan jumps into battle!\n",
      "Goblin Joe smells blood!\n"
     ]
    }
   ],
   "source": [
    "combatants = [goblin1, player1]\n",
    "\n",
    "random.shuffle(combatants) # Introduce combatants in a random order\n",
    "\n",
    "for combatant in combatants:\n",
    "    print(combatant)"
   ]
  },
  {
   "cell_type": "code",
   "execution_count": 352,
   "id": "b08ce2b2-5780-4b4c-be86-4b9c68ddc9bc",
   "metadata": {},
   "outputs": [
    {
     "name": "stdout",
     "output_type": "stream",
     "text": [
      "Roll for initiative!\n",
      "Joe rolled a 13.\n",
      "Ivan rolled a 13.\n"
     ]
    }
   ],
   "source": [
    "print(\"Roll for initiative!\")\n",
    "goblin1.rollForInitiative()\n",
    "print(f'{goblin1.name} rolled a {goblin1.initiativeRollModified}.')\n",
    "player1.rollForInitiative()\n",
    "print(f'{player1.name} rolled a {player1.initiativeRollModified}.')"
   ]
  },
  {
   "cell_type": "code",
   "execution_count": 353,
   "id": "eb3e0f7b-fd63-4517-b301-8309c7ae3dbf",
   "metadata": {},
   "outputs": [
    {
     "name": "stdout",
     "output_type": "stream",
     "text": [
      "Ivan will take the 1st turn.\n",
      "Joe will take the 2nd turn.\n"
     ]
    }
   ],
   "source": [
    "# Sort combatants list by modified initiative roll\n",
    "combatants.sort(key = attrgetter('initiativeRollModified'), reverse = True) # Going to assume no ties for now, need to implement tie resolver later\n",
    "\n",
    "# Assign list index as initiativeRank attribute to lock in order of combat\n",
    "index = 0\n",
    "for combatant in combatants:\n",
    "    combatant.initiativeRank = index\n",
    "    print(f'{combatant.name} will take the {int_to_ordinal(index + 1)} turn.')\n",
    "    index += 1"
   ]
  },
  {
   "cell_type": "code",
   "execution_count": 354,
   "id": "d1ebfc19-7b5b-4578-a110-0b2aa1e2a77c",
   "metadata": {},
   "outputs": [
    {
     "name": "stdout",
     "output_type": "stream",
     "text": [
      "For troubleshooting only - attack roll: 13\n",
      "For troubleshooting only - modified attack roll: 19\n",
      "For troubleshooting only - damage roll: 10\n",
      "For troubleshooting only - armor class: 15\n"
     ]
    }
   ],
   "source": [
    "active_player = combatants[0] # First index will attack\n",
    "attack1 = active_player.attack(target = combatants[1], weapon = active_player.weapons[0]) # Targets the only other combatant with the default weapon\n",
    "\n",
    "print(f'For troubleshooting only - attack roll: {attack1.attackRoll}')\n",
    "print(f'For troubleshooting only - modified attack roll: {attack1.attackRollModified}')\n",
    "print(f'For troubleshooting only - damage roll: {attack1.damageRoll}')\n",
    "print(f'For troubleshooting only - armor class: {combatants[1].armorClass}')"
   ]
  },
  {
   "cell_type": "code",
   "execution_count": 355,
   "id": "2c518fdc-ec08-4bad-8a2c-75390f91f769",
   "metadata": {},
   "outputs": [
    {
     "name": "stdout",
     "output_type": "stream",
     "text": [
      "7\n"
     ]
    }
   ],
   "source": [
    "# Show target hit points before attack\n",
    "print(attack1.target.hitPoints)"
   ]
  },
  {
   "cell_type": "markdown",
   "id": "3f745622-90af-4320-965f-b86c39f42d5b",
   "metadata": {},
   "source": [
    "## 10/19\n",
    "\n",
    "You may want to consider putting the logic below this comment into your attack function itself."
   ]
  },
  {
   "cell_type": "code",
   "execution_count": 356,
   "id": "f2f53c32-cd96-4717-bb53-704476ad5901",
   "metadata": {},
   "outputs": [
    {
     "name": "stdout",
     "output_type": "stream",
     "text": [
      "It hits, causing 10 damage.\n"
     ]
    }
   ],
   "source": [
    "if attack1.attackRoll == 1:\n",
    "    print(\"Womp womp it's a nat 1 and misses.\")\n",
    "elif attack1.attackRoll == 20:\n",
    "    attack1.target.hitPoints = attack1.target.hitPoints - (attack1.damageRoll * 2)\n",
    "    print(f'A critical hit dealing {attack1.damageRoll * 2} damage!')\n",
    "elif attack1.attackRollModified >= attack1.target.armorClass:\n",
    "    attack1.target.hitPoints = attack1.target.hitPoints - attack1.damageRoll\n",
    "    print(f'It hits, causing {attack1.damageRoll} damage.')\n",
    "elif attack1.attackRollModified < attack1.target.armorClass:\n",
    "    print(\"It misses.\")"
   ]
  },
  {
   "cell_type": "code",
   "execution_count": 357,
   "id": "42c745d6-f126-49df-8b23-914e94ce44dd",
   "metadata": {},
   "outputs": [
    {
     "name": "stdout",
     "output_type": "stream",
     "text": [
      "-3\n",
      "-3\n"
     ]
    }
   ],
   "source": [
    "# Show target hit points after attack\n",
    "print(attack1.target.hitPoints)\n",
    "print(combatants[1].hitPoints) # This does the same thing! Cool!"
   ]
  },
  {
   "cell_type": "code",
   "execution_count": 358,
   "id": "052f06ae-6c57-485d-be21-6f3c4a35ba74",
   "metadata": {},
   "outputs": [
    {
     "name": "stdout",
     "output_type": "stream",
     "text": [
      "Joe faints.\n"
     ]
    }
   ],
   "source": [
    "if attack1.target.hitPoints <= 0:\n",
    "    print(f'{attack1.target.name} faints.')\n",
    "else:\n",
    "    print(f'{attack1.target.name} is still standing.')"
   ]
  },
  {
   "cell_type": "markdown",
   "id": "43325ab5-7474-490f-a87a-6b16fff5f327",
   "metadata": {},
   "source": [
    "## 10/19 Assignment 4\n",
    "\n",
    "Address comments above, including creating a `GameHandler` class. Read up on \n",
    "Python inheritance [here](https://www.w3schools.com/python/python_inheritance.asp) and whatever other sources you find useful. Create a \n",
    "`Monster` parent class that all monster inherit from. Move your `monster_attack` function to the `Monster` parent class. Make a `Weapon` class \n",
    "and have your different weapons like `BattleAxe` and `Dildo` inherit from it. This should reduce the repetitiveness in code for the different weapons you are creating (they all have the exact same variables but are defined with different values)."
   ]
  },
  {
   "cell_type": "code",
   "execution_count": null,
   "id": "166f10b3",
   "metadata": {},
   "outputs": [],
   "source": []
  }
 ],
 "metadata": {
  "kernelspec": {
   "display_name": "Python 3",
   "language": "python",
   "name": "python3"
  },
  "language_info": {
   "codemirror_mode": {
    "name": "ipython",
    "version": 3
   },
   "file_extension": ".py",
   "mimetype": "text/x-python",
   "name": "python",
   "nbconvert_exporter": "python",
   "pygments_lexer": "ipython3",
   "version": "3.12.7"
  }
 },
 "nbformat": 4,
 "nbformat_minor": 5
}
