{
 "cells": [
  {
   "cell_type": "markdown",
   "id": "a37b885e-f7f1-42d3-9ee0-5ebc9fcb2454",
   "metadata": {},
   "source": [
    "# D&D encounter manager \n",
    "\n",
    "### Requirements\n",
    "- Select enemies for an encounter if provided with a challenge rating and environment (I can upload possible options and it should randomly choose from a list of say 100)\n",
    "- Roll 20-sided die and determine order in which players will take turns\n",
    "- Quick access to monster stats and possible attacks/moves\n",
    "- Manage HP for each monster and track turn count-downs where applicable\n",
    "- Extra: LLM API to help generate interesting names, monster characteristics / traits, things they say, things they are wearing"
   ]
  },
  {
   "cell_type": "raw",
   "id": "15de4399-ed68-4b45-adf6-4ea6c9086f75",
   "metadata": {},
   "source": [
    "%pip install numpy"
   ]
  },
  {
   "cell_type": "code",
   "execution_count": 1,
   "id": "77614a07-5a0e-4c85-9496-bc59a95cea9c",
   "metadata": {},
   "outputs": [],
   "source": [
    "import numpy as np\n",
    "import random\n",
    "import math\n",
    "from operator import attrgetter\n",
    "#from collections import Counter\n",
    "#from itertools import repeat"
   ]
  },
  {
   "cell_type": "markdown",
   "id": "2a5f336d-031e-4e21-8db0-6fb1fdb47e2b",
   "metadata": {},
   "source": [
    "## Assignment 1\n",
    "\n",
    "1. Create your own python [function](https://www.geeksforgeeks.org/python-functions/) that returns a random number from 1-20. You should use pythons [randint](https://www.w3schools.com/python/ref_random_randint.asp) method to help you.\n",
    "2. Make a [list](https://www.w3schools.com/python/python_lists.asp) of names (make up like 5 different names).\n",
    "3. Write a for [loop](https://www.w3schools.com/python/python_for_loops.asp) that goes through your list and for each name:\n",
    "* A) prints the name;\n",
    "* B) prints a random number 1-20 using your function from (1)."
   ]
  },
  {
   "cell_type": "raw",
   "id": "a71e042b-af60-42b0-80d3-a83f986362b8",
   "metadata": {},
   "source": [
    "def roll_dice_20():\n",
    "    \"\"\"DEPRECATED! Please use roll_dice(). Returns a number between 1 to 20 using a random uniform distribution\"\"\"\n",
    "    #roll = int(round(np.random.uniform(0.5, 20.5), 0))\n",
    "    roll = np.random.randint(0.5, 20.5) # This is easier\n",
    "    return roll"
   ]
  },
  {
   "cell_type": "code",
   "execution_count": 2,
   "id": "9b463251-9e2b-403d-8772-131a7bae28c4",
   "metadata": {},
   "outputs": [],
   "source": [
    "def roll_dice(sides = 20):\n",
    "    \"\"\"Returns a number between 1 and the sides of a dice using a random uniform distribution (default 20-sided)\"\"\"\n",
    "    roll = np.random.randint(1, sides + 1)\n",
    "    \n",
    "    if sides not in {4, 6, 8, 10, 12, 20, 100}:\n",
    "        print(f\"Warning: It is uncommon to roll a {sides}-sided die. Are you sure?\") # Can also use warnings.warn\n",
    "        return roll\n",
    "    else:\n",
    "        return roll\n"
   ]
  },
  {
   "cell_type": "markdown",
   "id": "a5de7171-4a8b-49bf-8359-5961720b44db",
   "metadata": {},
   "source": [
    "Nice commenting on functions!\n",
    "\n",
    "nit: roll_dice_20 is returning a double here. We probably want to represent a dice roll as an int. This can be done by casting roll into an int: `roll = int(roll)` or by using a different random generating function. I personally would just use randint with something like:\n",
    "```\n",
    "from random import randint\n",
    "\n",
    "roll = randint(1, 21)\n",
    "```\n",
    "\n",
    "<font color='hotpink'>\n",
    "    \n",
    "- Good idea generalizing your \"roll_dice_20\" function. I think that a better naming for this function would be just \"roll_dice.\" The argument name \"sides\" conveys to the caller that the number of sides can be chosen (no need for word \"any\").\n",
    "    \n",
    "- for the line `if sides not in [4, 6, 8, 10, 12, 20, 100]`, it is checking membership in a list. Better to use a `set`: `if sides not in {4, 6, 8, 10, 12, 20, 100}`. When Python checks for membership of `x` in a list, it needs to iterate over every element of the list to see if it equals `x`. So this takes a **really** long time for big lists. For sets, it is a **hash map** so it can check for membership of `x` in constant time. This means, *no matter how big your set is, it always takes the same amount of time to check if something is in it.* This is an amazing property of hash maps.\n",
    "\n",
    "- Your warning isn't printing as it comes after the return statement. So the function never gets to it! You should just put the warning before the return statement.\n",
    "</font> "
   ]
  },
  {
   "cell_type": "code",
   "execution_count": 3,
   "id": "8de6d4d7-102a-4ed7-84a2-1c258c6f925c",
   "metadata": {},
   "outputs": [
    {
     "name": "stdout",
     "output_type": "stream",
     "text": [
      "Warning: It is uncommon to roll a 15-sided die. Are you sure?\n"
     ]
    },
    {
     "data": {
      "text/plain": [
       "2"
      ]
     },
     "execution_count": 3,
     "metadata": {},
     "output_type": "execute_result"
    }
   ],
   "source": [
    "roll_dice(15)"
   ]
  },
  {
   "cell_type": "raw",
   "id": "e6d08d14-1cf3-4666-91b1-0e1d19f912eb",
   "metadata": {},
   "source": [
    "# Check that each value appears equally (Ivan)\n",
    "# Run time is O(n)\n",
    "# Space complexity is O(1)\n",
    "\n",
    "rolls = [0 for i in range(20)]\n",
    "\n",
    "for i in range(1000000):\n",
    "    rolls[roll_dice()-1] += 1\n",
    "\n",
    "print(rolls)"
   ]
  },
  {
   "cell_type": "raw",
   "id": "14ed207c-d641-4cdd-90df-2c617dd4191c",
   "metadata": {},
   "source": [
    "# Check that each value appears equally (Peco)\n",
    "# Run time is O(n)\n",
    "# Space complexity is O(n)\n",
    "\n",
    "rolls = []\n",
    "\n",
    "for i in range(1000000):\n",
    "    dice_roll = roll_dice()\n",
    "    rolls.append(dice_roll)\n",
    "\n",
    "counts = Counter(rolls)\n",
    "\n",
    "print(sorted(counts.items()))"
   ]
  },
  {
   "cell_type": "code",
   "execution_count": 4,
   "id": "4c2d8f8b-c8ea-42bc-810d-12b6b1ea4cf7",
   "metadata": {},
   "outputs": [],
   "source": [
    "combatants = [\"unnamed_goblin_1\", \"unnamed_goblin_2\", \"Ivan\", \"unnamed_goblin_4\", \"goblin_lord_1\"]"
   ]
  },
  {
   "cell_type": "code",
   "execution_count": 5,
   "id": "e2e1cce6-87ed-4f97-98d9-040febc1a061",
   "metadata": {},
   "outputs": [
    {
     "name": "stdout",
     "output_type": "stream",
     "text": [
      "unnamed_goblin_1\n"
     ]
    }
   ],
   "source": [
    "print(combatants[0])"
   ]
  },
  {
   "cell_type": "code",
   "execution_count": 6,
   "id": "79b3537f-2288-4005-b226-485c12cc04bb",
   "metadata": {},
   "outputs": [
    {
     "name": "stdout",
     "output_type": "stream",
     "text": [
      "unnamed_goblin_1\n",
      "7\n",
      "unnamed_goblin_2\n",
      "8\n",
      "Ivan\n",
      "10\n",
      "unnamed_goblin_4\n",
      "16\n",
      "goblin_lord_1\n",
      "14\n"
     ]
    }
   ],
   "source": [
    "for n in combatants:\n",
    "    print(n)\n",
    "    print(roll_dice())"
   ]
  },
  {
   "cell_type": "code",
   "execution_count": 7,
   "id": "94404352-28d3-4453-97be-8aef79720be6",
   "metadata": {},
   "outputs": [
    {
     "name": "stdout",
     "output_type": "stream",
     "text": [
      "Combatant: unnamed_goblin_1, roll: 2\n",
      "Combatant: unnamed_goblin_2, roll: 9\n",
      "Combatant: Ivan, roll: 15\n",
      "Combatant: unnamed_goblin_4, roll: 16\n",
      "Combatant: goblin_lord_1, roll: 19\n"
     ]
    }
   ],
   "source": [
    "for n in combatants:\n",
    "    print(f\"Combatant: {n}, roll: {roll_dice()}\")"
   ]
  },
  {
   "cell_type": "markdown",
   "id": "461b69c8-c894-4b14-84a4-4e49c71b8db6",
   "metadata": {},
   "source": [
    "Cool fact, in python you can use f-strings to easily print information about variables. You could do something like\n",
    "```\n",
    "print(f\"Combatant: {n}, roll: {roll_dice_20()}\")\n",
    "```"
   ]
  },
  {
   "cell_type": "markdown",
   "id": "ec5c9e10-dfa9-47a7-9c60-022fd2796cd7",
   "metadata": {},
   "source": [
    "## Assignment 2\n",
    "\n",
    "1. Just to practice dictionaries (we will do something fancier in a later assignment to manage player stats), create a [dictionary](https://www.w3schools.com/python/python_dictionaries.asp) whose keys are your combatants and whose values are their dice rolls.\n",
    "\n",
    "2. We want to meet the requirement to decide the order players take turns. To programmatically break ties of a 20-sides dice, is a little tricky. Instead, let's just take your combatants list and apply a random permutation, selected uniformly from all possible permuations. By symmetry (no player is prefered in either method), this has the same probabability distribution of as ordering players with a 20-sided die strategy. Use the [shuffle function](https://pynative.com/python-random-shuffle/) to randomly order your list of combatants.\n",
    "\n",
    "3. Create a `Goblin` [class](https://www.w3schools.com/python/python_classes.asp). Your goblin should be initialized with a fixed hp that all goblins have (i.e., initialize `self.hp`). Goblins should also have other properties associated to them. I don't know what those should be, but I'll let you come up with them. Your class should have methods for actions a goblin can take, like attack maybe? I will let you figure those out lol. You can leave the method implementations blank for now. Focus on learning how you can define different variables and methods in a class from the linked reading. "
   ]
  },
  {
   "cell_type": "code",
   "execution_count": 8,
   "id": "e31aa9f5-b155-4e03-91b4-524717336a70",
   "metadata": {},
   "outputs": [
    {
     "data": {
      "text/plain": [
       "5"
      ]
     },
     "execution_count": 8,
     "metadata": {},
     "output_type": "execute_result"
    }
   ],
   "source": [
    "len(combatants)"
   ]
  },
  {
   "cell_type": "code",
   "execution_count": 9,
   "id": "1d78a314-b2b6-41a1-b97f-02639972a72d",
   "metadata": {},
   "outputs": [
    {
     "name": "stdout",
     "output_type": "stream",
     "text": [
      "{'unnamed_goblin_1': 13, 'unnamed_goblin_2': 7, 'Ivan': 7, 'unnamed_goblin_4': 20, 'goblin_lord_1': 16}\n"
     ]
    }
   ],
   "source": [
    "combatant_rolls = {}\n",
    "\n",
    "for i in range(len(combatants)):\n",
    "    combatant_rolls.update({combatants[i]: roll_dice()})\n",
    "\n",
    "print(combatant_rolls)"
   ]
  },
  {
   "cell_type": "markdown",
   "id": "a20d5743-b5d7-4571-992d-73aba80cb82f",
   "metadata": {},
   "source": [
    "<font color=\"hotpink\">\n",
    "This for loop is a great opportunity to drop your accent. Let's look at better ways to do this:\n",
    "\n",
    "- Instead of doing this `combatant_rolls.update({combatants[i]: roll_dice_20()})`, you just need to do this: ```combatant_rolls[combatants[i]] = roll_dice20()```\n",
    "\n",
    "- But why iterate over range? Much better is:\n",
    "\n",
    "```\n",
    "for combatant in combatants:\n",
    "    combatant_rolls[combatant] = roll_dice_20()\n",
    "```\n",
    "\n",
    "Note how descriptive python is. Very sexy.\n",
    "\n",
    "- Let's be fancy girls. You can replace your whole for loop with a dictionary comprehension:\n",
    "  ```\n",
    "  combatant_rolls = {combatant: roll_dice_20() for combatant in combatants}\n",
    "  ```\n",
    "\n",
    "</font>"
   ]
  },
  {
   "cell_type": "code",
   "execution_count": 10,
   "id": "ba4349b3-0fd0-4945-9df5-5dcff4663ade",
   "metadata": {},
   "outputs": [
    {
     "name": "stdout",
     "output_type": "stream",
     "text": [
      "{'unnamed_goblin_1': 3, 'unnamed_goblin_2': 17, 'Ivan': 9, 'unnamed_goblin_4': 11, 'goblin_lord_1': 13}\n"
     ]
    }
   ],
   "source": [
    "combatant_rolls = {combatant: roll_dice() for combatant in combatants}\n",
    "\n",
    "print(combatant_rolls)"
   ]
  },
  {
   "cell_type": "code",
   "execution_count": 11,
   "id": "f10545a1-1419-4e97-8ec4-ad990968bd20",
   "metadata": {},
   "outputs": [
    {
     "name": "stdout",
     "output_type": "stream",
     "text": [
      "['unnamed_goblin_2', 'goblin_lord_1', 'unnamed_goblin_1', 'Ivan', 'unnamed_goblin_4']\n"
     ]
    }
   ],
   "source": [
    "random.shuffle(combatants) # Shuffles in-place\n",
    "\n",
    "print(combatants)"
   ]
  },
  {
   "cell_type": "code",
   "execution_count": 12,
   "id": "0d9ae78f-ecc4-47b8-8e89-1eb6e26f950b",
   "metadata": {},
   "outputs": [],
   "source": [
    "def num_to_ordinal(n):\n",
    "    \"\"\"Convert a number to its ordinal representation\"\"\"\n",
    "    #mod = n % 10\n",
    "    if n % 10 in range(4, 10):\n",
    "        suffix = \"th\"\n",
    "    elif n % 10 == 0:\n",
    "        suffix = \"th\"\n",
    "    elif n % 10 == 1:\n",
    "        suffix = \"st\"\n",
    "    elif n % 10 == 2:\n",
    "        suffix = \"nd\"\n",
    "    elif n % 10 == 3:\n",
    "        suffix = \"rd\"\n",
    "    return f\"{n}{suffix}\""
   ]
  },
  {
   "cell_type": "markdown",
   "id": "efb5ba5f-7fb5-4b9c-93ea-d7cc209b65a7",
   "metadata": {},
   "source": [
    "## 10/19\n",
    "\n",
    "Consider what happens here when n = 11"
   ]
  },
  {
   "cell_type": "code",
   "execution_count": 13,
   "id": "efc8aa93-0ed2-421e-aa15-ac65c28c200c",
   "metadata": {},
   "outputs": [],
   "source": [
    "def ability_score_to_modifier(ability_score):\n",
    "    \"\"\"Converts ability scores to ability score modifiers\"\"\"\n",
    "    modifier = math.floor((ability_score - 10) / 2)\n",
    "    \n",
    "    return modifier\n",
    "\n",
    "def monster_attack(target, weapon, attack_roll_modifier, damage_roll_modifier):\n",
    "    attack_roll = roll_dice(20)\n",
    "    \n",
    "    damage_dice_rolls = []\n",
    "    for rolls in range(weapon.damageDiceCount):\n",
    "        damage_dice_rolls.append(roll_dice(weapon.damageDiceSides))\n",
    "        rolls += 1\n",
    "    \n",
    "    attack_details = Attack(\n",
    "        target = target,\n",
    "        attackRoll = attack_roll,\n",
    "        attackRollModified = attack_roll + attack_roll_modifier,\n",
    "        damageRoll = sum(damage_dice_rolls) + damage_roll_modifier\n",
    "        )\n",
    "    \n",
    "    return attack_details\n",
    "\n",
    "def player_attack(player, target, weapon):\n",
    "    attack_roll = roll_dice(20)\n",
    "    \n",
    "    damage_dice_rolls = []\n",
    "    for rolls in range(weapon.damageDiceCount):\n",
    "        damage_dice_rolls.append(roll_dice(weapon.damageDiceSides))\n",
    "        rolls += 1\n",
    "\n",
    "    if weapon.weaponType == \"melee\":\n",
    "        attack_and_damage_roll_modifier = ability_score_to_modifier(player.abilityScores.strength)\n",
    "    elif weapon.weaponType == \"ranged\":\n",
    "        attack_and_damage_roll_modifier = ability_score_to_modifier(player.abilityScores.dexterity)\n",
    "    \n",
    "    attack_details = Attack(\n",
    "        target = target,\n",
    "        attackRoll = attack_roll,\n",
    "        attackRollModified = attack_roll + player.proficiencyBonus + attack_and_damage_roll_modifier,\n",
    "        damageRoll = sum(damage_dice_rolls) + attack_and_damage_roll_modifier\n",
    "        )\n",
    "    \n",
    "    return attack_details"
   ]
  },
  {
   "cell_type": "markdown",
   "id": "518e6dbe-c122-44f5-845b-b0ccbfaba974",
   "metadata": {},
   "source": [
    "## 10/19\n",
    "\n",
    "I think there may be a misunderstanding or typo here:\n",
    "\n",
    "```\n",
    "for rolls in range(weapon.damageDiceCount):\n",
    "        damage_dice_rolls.append(roll_dice(weapon.damageDiceSides))\n",
    "        rolls += 1\n",
    "```\n",
    "\n",
    "You want to loop over the total number of weapon.damageDiceCount right? There is no need to increment `rolls`. In other words, you can remove the line `rolls += 1`. Also, I would call it `roll` instead of `rolls`. You are looping through each `roll` in that range. \n",
    "\n",
    "---\n",
    "\n",
    "\n",
    "I see that this code is repeated twice: \n",
    "```\n",
    "damage_dice_rolls = []\n",
    "    for rolls in range(weapon.damageDiceCount):\n",
    "        damage_dice_rolls.append(roll_dice(weapon.damageDiceSides))\n",
    "```\n",
    "I know it's a small repetition, but you may want to make it into a function: `def get_damage_dice_rolls(total_rolls)`\n",
    "\n",
    "---\n",
    "\n",
    "With this code:\n",
    "```\n",
    "    if weapon.weaponType == \"melee\":\n",
    "        attack_and_damage_roll_modifier = ability_score_to_modifier(player.abilityScores.strength)\n",
    "    elif weapon.weaponType == \"ranged\":\n",
    "        attack_and_damage_roll_modifier = ability_score_to_modifier(player.abilityScores.dexterity)\n",
    "```\n",
    "There is a chance that `attack_and_damage_roll_modifier` never gets defined, if weaponType does not match one of those two choices. Consider what to do in this case. You can do this in an `else` block. This error could happen if you add a new weaponType in the future and forget to modify the player_attack function."
   ]
  },
  {
   "cell_type": "code",
   "execution_count": 14,
   "id": "f5f202a8-7f5a-4ae2-b6ac-e44534e9dd39",
   "metadata": {},
   "outputs": [],
   "source": [
    "class AbilityScores:\n",
    "    \"\"\"Ability scores for creatures\"\"\"\n",
    "    \n",
    "    def __init__(self, strength, dexterity, constitution, intelligence, wisdom, charisma):\n",
    "        ability_scores_set = {strength, dexterity, constitution, intelligence, wisdom, charisma}\n",
    "\n",
    "        if any(score > 30 for score in ability_scores_set):\n",
    "            print(\"Ability scores must be between 1 and 30.\")\n",
    "        elif any(score < 1 for score in ability_scores_set):\n",
    "            print(\"Ability scores must be between 1 and 30.\")\n",
    "        else:\n",
    "            self.strength = strength\n",
    "            self.dexterity = dexterity\n",
    "            self.constitution = constitution\n",
    "            self.intelligence = intelligence\n",
    "            self.wisdom = wisdom\n",
    "            self.charisma = charisma\n",
    "\n",
    "class Alignment:\n",
    "    \"\"\"Alignment for creatures\"\"\"\n",
    "\n",
    "    def __init__(self, lawfulness, morality):\n",
    "        self.valid_lawfulness = {\"lawful\", \"neutral\", \"chaotic\"}\n",
    "        self.valid_morality = {\"good\", \"neutral\", \"evil\"}\n",
    "\n",
    "        if lawfulness in self.valid_lawfulness:\n",
    "            self.lawfulness = lawfulness\n",
    "        else:\n",
    "            print(f\"Invalid lawfulness: {lawfulness}. Must be one of {self.valid_lawfulness}.\")\n",
    "\n",
    "        if morality in self.valid_morality:\n",
    "            self.morality = morality\n",
    "        else:\n",
    "            print(f\"Invalid morality: {morality}. Must be one of {self.valid_morality}.\")\n",
    "\n",
    "class Attack:\n",
    "    \"\"\"Attacks for creatures\"\"\"\n",
    "\n",
    "    def __init__(self, target, attackRoll, attackRollModified, damageRoll):\n",
    "        self.target = target\n",
    "        self.attackRoll = attackRoll\n",
    "        self.attackRollModified = attackRollModified\n",
    "        self.damageRoll = damageRoll"
   ]
  },
  {
   "cell_type": "markdown",
   "id": "76c2eef2-9e78-421e-8f1c-2a54101c0310",
   "metadata": {},
   "source": [
    "## 10/19\n",
    "\n",
    "Nice checking for edge cases in `AbilityScores` and in `Alignment`. Maybe later we can talk about different ways to handle these, like throwing exceptions. This will ensure the code doesn't run and create a half-assed `Alignment` object. I don't think it is a critical thing to do though."
   ]
  },
  {
   "cell_type": "code",
   "execution_count": 15,
   "id": "bc7c2b46-e725-4a3c-915b-d2e066065ae7",
   "metadata": {},
   "outputs": [],
   "source": [
    "# Weapon classes\n",
    "class Scimitar:\n",
    "    \"\"\"Weapon: Scimitar (2014 Player's Handbook)\"\"\"\n",
    "\n",
    "    def __init__(self):\n",
    "        self.name = \"scimitar\"\n",
    "        self.cost = 25\n",
    "        self.damageDiceCount = 1\n",
    "        self.damageDiceSides = 6\n",
    "        self.weight = 3\n",
    "        self.weaponType = \"melee\"\n",
    "\n",
    "class BattleAxe:\n",
    "    \"\"\"Weapon: Battle Axe (2014 Player's Handbook)\"\"\"\n",
    "\n",
    "    def __init__(self):\n",
    "        self.name = \"battle axe\"\n",
    "        self.cost = 10\n",
    "        self.damageDiceCount = 1\n",
    "        self.damageDiceSides = 8\n",
    "        self.weight = 4\n",
    "        self.weaponType = \"melee\""
   ]
  },
  {
   "cell_type": "code",
   "execution_count": 16,
   "id": "ed5e5920-95cc-4ebd-8a18-9fa980a1512b",
   "metadata": {},
   "outputs": [],
   "source": [
    "# Monster classes\n",
    "class Goblin:\n",
    "    \"\"\"Goblin creature (2014 Monster Manual)\"\"\"\n",
    "\n",
    "    def __init__(self, name):\n",
    "        self.name = name\n",
    "        self.size = \"small\"\n",
    "        self.creatureType = \"humanoid\"\n",
    "        self.alignment = Alignment(\"neutral\", \"evil\")\n",
    "        self.armorClass = 15\n",
    "        self.hitPointsMax = 7\n",
    "        self.hitPoints = self.hitPointsMax\n",
    "        self.speed = 30\n",
    "        self.weapons = [Scimitar()]\n",
    "        self.abilityScores =  AbilityScores(\n",
    "            strength = 8,\n",
    "            dexterity = 14,\n",
    "            constitution = 10,\n",
    "            intelligence = 10,\n",
    "            wisdom = 8,\n",
    "            charisma = 8\n",
    "            )\n",
    "        self.proficiencyBonus = 2\n",
    "        self.challengeRating = 0.25\n",
    "        self.initiativeRoll = None\n",
    "        self.initiativeRollModified = None\n",
    "        self.initiativeRank = None\n",
    "    \n",
    "    def __str__(self):\n",
    "        return f\"Goblin {self.name} smells blood!\"\n",
    "\n",
    "    def rollForInitiative(self):\n",
    "        self.initiativeRoll = roll_dice(20)\n",
    "        self.initiativeRollModified = self.initiativeRoll + ability_score_to_modifier(self.abilityScores.dexterity)\n",
    "        return f\"Goblin {self.name} rolled a {self.initiativeRoll}.\"\n",
    "\n",
    "    def attack(self, target, weapon):\n",
    "        attackDetails = monster_attack(\n",
    "            target = target,\n",
    "            weapon = weapon,\n",
    "            attack_roll_modifier = 4,\n",
    "            damage_roll_modifier = 2\n",
    "            )\n",
    "        return attackDetails"
   ]
  },
  {
   "cell_type": "code",
   "execution_count": 17,
   "id": "7202b291-dd98-4c64-81af-6cd0ab9bb06b",
   "metadata": {},
   "outputs": [],
   "source": [
    "class Player:\n",
    "    \"\"\"Playable hero\"\"\"\n",
    "\n",
    "    def __init__(self,\n",
    "                 name,\n",
    "                 race,\n",
    "                 playerClass,\n",
    "                 abilityScores,\n",
    "                 proficiencyBonus,\n",
    "                 alignment,\n",
    "                 hitPointsMax,\n",
    "                 armorClass,\n",
    "                 weapons\n",
    "                ):\n",
    "        self.name = name\n",
    "        self.race = race\n",
    "        self.playerClass = playerClass\n",
    "        self.abilityScores = abilityScores\n",
    "        self.proficiencyBonus = proficiencyBonus\n",
    "        self.alignment = alignment\n",
    "        self.hitPointsMax = hitPointsMax\n",
    "        self.hitPoints = self.hitPointsMax\n",
    "        self.armorClass = armorClass\n",
    "        self.weapons = weapons\n",
    "        self.size = \"medium\"\n",
    "        self.speed = 30\n",
    "        self.initiativeRoll = None\n",
    "        self.initiativeRollModified = None\n",
    "        self.initiativeRank = None\n",
    "\n",
    "    def __str__(self):\n",
    "        return f\"{self.playerClass.capitalize()} {self.name} jumps into battle!\"\n",
    "\n",
    "    def rollForInitiative(self):\n",
    "        self.initiativeRoll = roll_dice(20)\n",
    "        self.initiativeRollModified = self.initiativeRoll + ability_score_to_modifier(self.abilityScores.dexterity)\n",
    "        return f\"{self.name} rolled a {self.initiativeRoll}.\"\n",
    "\n",
    "    def attack(self, target, weapon):\n",
    "        attackDetails = player_attack(\n",
    "            player = self,\n",
    "            target = target,\n",
    "            weapon = weapon\n",
    "            )\n",
    "        return attackDetails"
   ]
  },
  {
   "cell_type": "markdown",
   "id": "4750f056-0a32-4ddc-878a-cdd6576cc4f9",
   "metadata": {},
   "source": [
    "<font color=\"hotpink\">\n",
    "\n",
    "- Whoa! Awesome use of `__str__`. This is one of python's **magic methods**\n",
    "- Regarding: `    stats = [8, 14, 10, 10, 8, 8] # Strength, dexterity, constitution, intelligence, wisdom, charisma\n",
    "` It is not good to pack things in a list where there is hidden meaning. It relies on someone reading that comment. A much better thing to do, is create a `Stats` class, and make \"Strength, dexterity, constitution, intelligence, wisdom, charisma\" each a property of the class. Your goblin can then have a property `self.stats = Stats(strength = 5, dexterity = 6, ....)`. The Stats can then be used by other monsters as well and is a common interface understood between them.\n",
    "- So, for any class in Python (and other OO languages), there are **instances** (or **objects**) of that class. For example, `Goblin` is your class, and `goblin1 = Goblin('Joe')` is an instance of it. All the `self` properties like `self.name` above belong to the instance. For example, goblin1 may be named Joe while goblin2 may be named \"h. solo\".\n",
    "\n",
    "Many of the other variables you are defining belong to the class currently, and they can't be changed for individual instances. This is probably incorrect, as you will want the hp to be a property of each instance (goblin1 may be down to 5 hp while h. solo has 6 hp.\n",
    "- Most methods you write should be made to manipulate your instance's variables. This is usually done by something like\n",
    "  `def attack(self, type = \"melee\")`\n",
    "- On the other hand, `class methods` are bound to the class and not individual instances of the class. This means, they cannot manipulate variables belonging to a goblin1. I would say, class methods are much less used (although they are definitely useful).\n",
    "- You are packing wayyy too much in the return type of a method. Instead, lets record that information in properties of your object and in other classes. You do not want the caller of your method to have to know what each item in the returned list should mean. See next assignment.\n",
    "\n",
    "</font>"
   ]
  },
  {
   "cell_type": "markdown",
   "id": "74306489-6374-4fa8-a831-7fa264f2b54d",
   "metadata": {},
   "source": [
    "## 10/18\n",
    "\n",
    "\n",
    "Kinda either super racist or super woke to give players a race. Have a story around this ready for HR.\n",
    "\n",
    "---\n",
    "Why not make the `player_attack` function a method in `Player`?"
   ]
  },
  {
   "cell_type": "markdown",
   "id": "081b8e6d-ee9a-4718-a5c4-20419bedf265",
   "metadata": {},
   "source": [
    "## Assignment 3\n",
    "\n",
    "1. Modify your attack method above to:\n",
    " -  not be a class method\n",
    " -  I am assuming \"damage_roll\" determines how much hp is lost. Modify the attack method to decrease your goblin instance's self.hp by the appropriate amount\n",
    " -  The short_range and long_range variables never change. Make these properties of your class. You can then have another function that returns these: `get_short_range()`, `get_long_range()`.\n",
    " -  The attack method should just return the attack roll result.\n",
    "2. Make the Stats class mentioned above\n",
    "3. Add more methods to your Goblin class.\n",
    "4. Create two other monster classes. Comment what methods/properties **all** monster classes should have.\n",
    "5. Create a `Player` class and its properties and methods. Create an instance of the Player class `Ivan`. This player's stats should be superior to all other players.\n"
   ]
  },
  {
   "cell_type": "code",
   "execution_count": 18,
   "id": "20594a4b-48cc-4b0a-a939-a8c84db2ecc9",
   "metadata": {},
   "outputs": [],
   "source": [
    "goblin1 = Goblin(\"Joe\")"
   ]
  },
  {
   "cell_type": "code",
   "execution_count": 19,
   "id": "14784cc4-16e3-4ea2-ac41-56c837f42e29",
   "metadata": {},
   "outputs": [],
   "source": [
    "player1 = Player(name = \"Ivan\",\n",
    "                 race = \"human\",\n",
    "                 playerClass = \"barbarian\",\n",
    "                 abilityScores = AbilityScores(16, 15, 14, 13, 12, 11),\n",
    "                 proficiencyBonus = 3,\n",
    "                 alignment = Alignment(\"lawful\", \"good\"),\n",
    "                 hitPointsMax = 30,\n",
    "                 armorClass = 15,\n",
    "                 weapons = [BattleAxe()]\n",
    "                )"
   ]
  },
  {
   "cell_type": "markdown",
   "id": "2764f513-9e7c-4bfc-8162-952c13e51506",
   "metadata": {},
   "source": [
    "## 10/19\n",
    "\n",
    "Please add \"sexy\" to alignment here. And race should be \"latinx\"."
   ]
  },
  {
   "cell_type": "markdown",
   "id": "335a52dd-3ae3-4773-9208-07dd70dcc3e6",
   "metadata": {},
   "source": [
    "## 10/19\n",
    "\n",
    "Lets create a `GameHandler` class. All the logic below this comment should be implemented in that class."
   ]
  },
  {
   "cell_type": "code",
   "execution_count": 20,
   "id": "f133c9da-f0a4-4256-8165-12f0dc586a8c",
   "metadata": {},
   "outputs": [
    {
     "name": "stdout",
     "output_type": "stream",
     "text": [
      "Goblin Joe smells blood!\n",
      "Barbarian Ivan jumps into battle!\n"
     ]
    }
   ],
   "source": [
    "combatants = [goblin1, player1]\n",
    "\n",
    "random.shuffle(combatants) # Introduce combatants in a random order\n",
    "\n",
    "for combatant in combatants:\n",
    "    print(combatant)"
   ]
  },
  {
   "cell_type": "code",
   "execution_count": 21,
   "id": "b08ce2b2-5780-4b4c-be86-4b9c68ddc9bc",
   "metadata": {},
   "outputs": [
    {
     "name": "stdout",
     "output_type": "stream",
     "text": [
      "Roll for initiative!\n"
     ]
    },
    {
     "data": {
      "text/plain": [
       "'Goblin Joe rolled a 15.'"
      ]
     },
     "metadata": {},
     "output_type": "display_data"
    },
    {
     "data": {
      "text/plain": [
       "'Ivan rolled a 12.'"
      ]
     },
     "metadata": {},
     "output_type": "display_data"
    }
   ],
   "source": [
    "print(\"Roll for initiative!\")\n",
    "display(goblin1.rollForInitiative())\n",
    "display(player1.rollForInitiative())"
   ]
  },
  {
   "cell_type": "code",
   "execution_count": 22,
   "id": "eb3e0f7b-fd63-4517-b301-8309c7ae3dbf",
   "metadata": {},
   "outputs": [
    {
     "name": "stdout",
     "output_type": "stream",
     "text": [
      "Joe will take turn 1st.\n",
      "Ivan will take turn 2nd.\n"
     ]
    }
   ],
   "source": [
    "# Sort combatants list by modified initiative roll\n",
    "combatants.sort(key = attrgetter('initiativeRollModified'), reverse = True) # Going to assume no ties for now, need to implement tie resolver later\n",
    "\n",
    "# Assign list index as initiativeRank attribute to lock in order of combat\n",
    "index = 0\n",
    "for combatant in combatants:\n",
    "    combatant.initiativeRank = index\n",
    "    print(f'{combatant.name} will take turn {num_to_ordinal(index + 1)}.')\n",
    "    index += 1"
   ]
  },
  {
   "cell_type": "code",
   "execution_count": 23,
   "id": "d1ebfc19-7b5b-4578-a110-0b2aa1e2a77c",
   "metadata": {},
   "outputs": [
    {
     "name": "stdout",
     "output_type": "stream",
     "text": [
      "For troubleshooting only - attack roll: 20\n",
      "For troubleshooting only - modified attack roll: 24\n",
      "For troubleshooting only - damage roll: 3\n",
      "For troubleshooting only - armor class: 15\n"
     ]
    }
   ],
   "source": [
    "active_player = combatants[0] # First index will attack\n",
    "attack1 = active_player.attack(target = combatants[1], weapon = active_player.weapons[0]) # Targets the only other combatant with the default weapon\n",
    "\n",
    "print(f'For troubleshooting only - attack roll: {attack1.attackRoll}')\n",
    "print(f'For troubleshooting only - modified attack roll: {attack1.attackRollModified}')\n",
    "print(f'For troubleshooting only - damage roll: {attack1.damageRoll}')\n",
    "print(f'For troubleshooting only - armor class: {combatants[1].armorClass}')"
   ]
  },
  {
   "cell_type": "code",
   "execution_count": 24,
   "id": "2c518fdc-ec08-4bad-8a2c-75390f91f769",
   "metadata": {},
   "outputs": [
    {
     "name": "stdout",
     "output_type": "stream",
     "text": [
      "30\n"
     ]
    }
   ],
   "source": [
    "# Show target hit points before attack\n",
    "print(attack1.target.hitPoints)"
   ]
  },
  {
   "cell_type": "markdown",
   "id": "3f745622-90af-4320-965f-b86c39f42d5b",
   "metadata": {},
   "source": [
    "## 10/19\n",
    "\n",
    "You may want to consider putting the logic below this comment into your attack function itself."
   ]
  },
  {
   "cell_type": "code",
   "execution_count": 30,
   "id": "f2f53c32-cd96-4717-bb53-704476ad5901",
   "metadata": {},
   "outputs": [
    {
     "name": "stdout",
     "output_type": "stream",
     "text": [
      "A critical hit dealing 6 damage!\n"
     ]
    }
   ],
   "source": [
    "if attack1.attackRoll == 1:\n",
    "    print(\"Womp womp it's a nat 1 and misses.\")\n",
    "elif attack1.attackRoll == 20:\n",
    "    attack1.target.hitPoints = attack1.target.hitPoints - (attack1.damageRoll * 2)\n",
    "    print(f'A critical hit dealing {attack1.damageRoll * 2} damage!')\n",
    "elif attack1.attackRollModified >= attack1.target.aArmorClass:\n",
    "    attack1.target.hitPoints = attack1.target.hitPoints - attack1.damageRoll\n",
    "    print(f'It hits, causing {attack1.damageRoll} damage.')\n",
    "elif attack1.attackRollModified < attack1.target.armorClass:\n",
    "    print(\"It misses.\")"
   ]
  },
  {
   "cell_type": "code",
   "execution_count": 32,
   "id": "42c745d6-f126-49df-8b23-914e94ce44dd",
   "metadata": {},
   "outputs": [
    {
     "name": "stdout",
     "output_type": "stream",
     "text": [
      "6\n",
      "6\n"
     ]
    }
   ],
   "source": [
    "# Show target hit points after attack\n",
    "print(attack1.target.hitPoints)\n",
    "print(combatants[1].hitPoints) # This does the same thing! Cool!"
   ]
  },
  {
   "cell_type": "code",
   "execution_count": 35,
   "id": "052f06ae-6c57-485d-be21-6f3c4a35ba74",
   "metadata": {},
   "outputs": [
    {
     "name": "stdout",
     "output_type": "stream",
     "text": [
      "Ivan is still standing.\n"
     ]
    }
   ],
   "source": [
    "if attack1.target.hitPoints <= 0:\n",
    "    print(f'{attack1.target.name} faints.')\n",
    "else:\n",
    "    print(f'{attack1.target.name} is still standing.')"
   ]
  },
  {
   "cell_type": "markdown",
   "id": "43325ab5-7474-490f-a87a-6b16fff5f327",
   "metadata": {},
   "source": [
    "## 10/19 Assignment 4\n",
    "\n",
    "Address comments above, including creating a `GameHandler` class. Read up on \n",
    "Python inheritance [here](https://www.w3schools.com/python/python_inheritance.asp) and whatever other sources you find useful. Create a \n",
    "`Monster` parent class that all monster inherit from. Move your `monster_attack` function to the `Monster` parent class. Make a `Weapon` class \n",
    "and have your different weapons like `BattleAxe` and `Dildo` inherit from it. This should reduce the repetitiveness in code for the different weapons you are creating (they all have the exact same variables but are defined with different values)."
   ]
  },
  {
   "cell_type": "code",
   "execution_count": 26,
   "id": "9dbd48b3-b803-463b-bca4-7bd813ca91af",
   "metadata": {},
   "outputs": [
    {
     "name": "stdout",
     "output_type": "stream",
     "text": [
      "24\n",
      "24\n"
     ]
    }
   ],
   "source": [
    "# Show target hit points after attack\n",
    "print(attack1.target.hitPoints)\n",
    "print(combatants[1].hitPoints) # This does the same thing! Cool!"
   ]
  },
  {
   "cell_type": "code",
   "execution_count": 27,
   "id": "b44d8e07-4849-426b-a328-3ce78bce8afa",
   "metadata": {
    "jupyter": {
     "source_hidden": true
    }
   },
   "outputs": [
    {
     "name": "stdout",
     "output_type": "stream",
     "text": [
      "Ivan is still standing.\n"
     ]
    }
   ],
   "source": [
    "if attack1.target.hitPoints <= 0:\n",
    "    print(f'{attack1.target.name} faints.')\n",
    "else:\n",
    "    print(f'{attack1.target.name} is still standing.')"
   ]
  }
 ],
 "metadata": {
  "kernelspec": {
   "display_name": "Python 3",
   "language": "python",
   "name": "python3"
  },
  "language_info": {
   "codemirror_mode": {
    "name": "ipython",
    "version": 3
   },
   "file_extension": ".py",
   "mimetype": "text/x-python",
   "name": "python",
   "nbconvert_exporter": "python",
   "pygments_lexer": "ipython3",
   "version": "3.12.7"
  }
 },
 "nbformat": 4,
 "nbformat_minor": 5
}
